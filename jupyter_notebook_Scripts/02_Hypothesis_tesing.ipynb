{
 "cells": [
  {
   "cell_type": "markdown",
   "id": "3d0a352c-6017-4a5b-8505-beb5ef430acc",
   "metadata": {},
   "source": [
    "# Importing required libraries and dataset\n",
    "- All data are imported as tables\n",
    "- Display first 5 rows of the tables"
   ]
  },
  {
   "cell_type": "code",
   "execution_count": 15,
   "id": "790cd8ef-6a65-4b3e-b83c-f02fa46a023f",
   "metadata": {},
   "outputs": [
    {
     "name": "stdout",
     "output_type": "stream",
     "text": [
      "Table of Hospitalisation details (first 5 rows):\n",
      "  Customer ID  year month  date  children  charges  Hospital tier  City tier  \\\n",
      "0      Id2335  1992   Jul     9         0   563.84            1.0        2.0   \n",
      "1      Id2334  1992   Nov    30         0   570.62            1.0        0.0   \n",
      "2      Id2333  1993   Jun    30         0   600.00            1.0        0.0   \n",
      "3      Id2332  1992   Sep    13         0   604.54            2.0        2.0   \n",
      "4      Id2331  1998   Jul    27         0   637.26            2.0        2.0   \n",
      "\n",
      "   State ID_R1011  State ID_R1012  State ID_R1013  patient age  \n",
      "0             0.0             0.0             1.0           33  \n",
      "1             0.0             0.0             1.0           33  \n",
      "2             0.0             0.0             1.0           32  \n",
      "3             0.0             0.0             1.0           33  \n",
      "4             0.0             0.0             1.0           27  \n",
      "                                \n",
      "Table of Medical Examinations:\n",
      "  Customer ID     BMI  HBA1C  NumberOfMajorSurgeries  Heart Issues_No  \\\n",
      "0         Id1  47.410   7.47                     1.0              1.0   \n",
      "1         Id2  30.360   5.77                     1.0              1.0   \n",
      "2         Id3  34.485  11.87                     0.0              0.0   \n",
      "3         Id4  38.095   6.05                     1.0              1.0   \n",
      "4         Id5  35.530   5.45                     1.0              1.0   \n",
      "\n",
      "   Heart Issues_yes  smoker_No  smoker_yes  Any Transplants_No  \\\n",
      "0               0.0        0.0         1.0                 1.0   \n",
      "1               0.0        0.0         1.0                 1.0   \n",
      "2               1.0        0.0         1.0                 1.0   \n",
      "3               0.0        0.0         1.0                 1.0   \n",
      "4               0.0        0.0         1.0                 1.0   \n",
      "\n",
      "   Any Transplants_yes  Cancer history_No  Cancer history_Yes  \n",
      "0                  0.0                1.0                 0.0  \n",
      "1                  0.0                1.0                 0.0  \n",
      "2                  0.0                1.0                 0.0  \n",
      "3                  0.0                1.0                 0.0  \n",
      "4                  0.0                1.0                 0.0  \n",
      "                                \n",
      "Table of Names:\n",
      "  Customer ID last_name       first_name gender\n",
      "0         Id1     Hawks       Ms.  Kelly      f\n",
      "1         Id2    Lehner   Mr.  Matthew D      m\n",
      "2         Id3        Lu        Mr.  Phil      m\n",
      "3         Id4   Osborne      Ms.  Kelsey      f\n",
      "4         Id5    Kadala     Ms.  Kristyn      f\n"
     ]
    }
   ],
   "source": [
    "#importing required libraries\n",
    "import numpy as np\n",
    "import pandas as pd\n",
    "import scipy.stats as stats\n",
    "from scipy.stats import chi2_contingency\n",
    "#importing all the data as table and tranferring to data frames\n",
    "dataset1=pd.read_parquet('data/interim/df_Hospitalisation_details.parquet')\n",
    "df_Hospitalisation_details = pd.DataFrame(dataset1)\n",
    "dataset2=pd.read_parquet('data/interim/df_Medical_Examinations.parquet')\n",
    "df_Medical_Examinations = pd.DataFrame(dataset2)\n",
    "dataset3=pd.read_parquet('data/interim/df_Names.parquet')\n",
    "df_Names = pd.DataFrame(dataset3)\n",
    "# Display five rows from each table\n",
    "print('Table of Hospitalisation details (first 5 rows):')\n",
    "print(df_Hospitalisation_details.head(5))\n",
    "print('                                ')\n",
    "print('Table of Medical Examinations:')\n",
    "print(df_Medical_Examinations.head(5))\n",
    "print('                                ')\n",
    "print('Table of Names:')\n",
    "print(df_Names.head(5))"
   ]
  },
  {
   "cell_type": "markdown",
   "id": "ecb041aa-6b45-46d6-9780-5cc537c7da5c",
   "metadata": {},
   "source": [
    "**According to output of above cell, data has transferred correctly**"
   ]
  },
  {
   "cell_type": "markdown",
   "id": "87cb6a3a-0f31-4b49-ab3f-b3d2e9096238",
   "metadata": {},
   "source": [
    "# Hypothesis Testing\n",
    "- Test the following null hypothesis"
   ]
  },
  {
   "cell_type": "markdown",
   "id": "82a11259-ca97-49e6-ba09-f82f4843cad5",
   "metadata": {},
   "source": [
    "## 1. The average hospitalization costs for the three types of hospitals are not significantly different."
   ]
  },
  {
   "cell_type": "code",
   "execution_count": 16,
   "id": "6c61af80-8c0e-4c77-9041-06e706c94515",
   "metadata": {},
   "outputs": [
    {
     "name": "stdout",
     "output_type": "stream",
     "text": [
      "F-statistic: 495.4738392647216\n",
      "P-value: 5.5985677688061205e-180\n",
      "Since P-value > 0.05 (critical value), tyep of hospitals are not sigificantly different!\n"
     ]
    }
   ],
   "source": [
    "Hospital_tier_1=df_Hospitalisation_details['charges'][df_Hospitalisation_details['Hospital tier']==0]\n",
    "Hospital_tier_2=df_Hospitalisation_details['charges'][df_Hospitalisation_details['Hospital tier']==1]\n",
    "Hospital_tier_3=df_Hospitalisation_details['charges'][df_Hospitalisation_details['Hospital tier']==2]\n",
    "# Perform one-way ANOVA\n",
    "f_statistic, p_value = stats.f_oneway(Hospital_tier_1, Hospital_tier_2, Hospital_tier_3)\n",
    "print(\"F-statistic:\", f_statistic)\n",
    "print(\"P-value:\", p_value)\n",
    "print('Since P-value > 0.05 (critical value), tyep of hospitals are not sigificantly different!')\n"
   ]
  },
  {
   "cell_type": "markdown",
   "id": "8713aff4-7ff8-49e6-8ea2-4c4eb64f6a60",
   "metadata": {},
   "source": [
    "## 2. The average hospitalization costs for the three types of cities are not significantly different."
   ]
  },
  {
   "cell_type": "code",
   "execution_count": 17,
   "id": "a02b56ec-eadb-44c7-9ea5-3017fed4feaa",
   "metadata": {},
   "outputs": [
    {
     "name": "stdout",
     "output_type": "stream",
     "text": [
      "F-statistic: 1.5506960494320452\n",
      "P-value: 0.21231948148820598\n",
      "Since P-value > 0.05 (critical value), tyep of hospitals are not sigificantly different!\n"
     ]
    }
   ],
   "source": [
    "City_tier_1=df_Hospitalisation_details['charges'][df_Hospitalisation_details['City tier']==0]\n",
    "City_tier_2=df_Hospitalisation_details['charges'][df_Hospitalisation_details['City tier']==1]\n",
    "City_tier_3=df_Hospitalisation_details['charges'][df_Hospitalisation_details['City tier']==2]\n",
    "# Perform one-way ANOVA\n",
    "f_statistic, p_value = stats.f_oneway(City_tier_1, City_tier_2, City_tier_3)\n",
    "print(\"F-statistic:\", f_statistic)\n",
    "print(\"P-value:\", p_value)\n",
    "print('Since P-value > 0.05 (critical value), tyep of hospitals are not sigificantly different!')"
   ]
  },
  {
   "cell_type": "markdown",
   "id": "14fd7f68-ddd2-4542-87f4-af3d5cd4837a",
   "metadata": {},
   "source": [
    "## 3. The average hospitalization costs for smokers is not significantly different from the average cost for nonsmokers."
   ]
  },
  {
   "cell_type": "code",
   "execution_count": 18,
   "id": "004957ec-60ef-4e6b-916f-cfcb6998884a",
   "metadata": {},
   "outputs": [
    {
     "name": "stdout",
     "output_type": "stream",
     "text": [
      "F-statistic: 5499.05404908718\n",
      "P-value: 0.0 10\n",
      "Since P-value < 0.05 (critical value), smoker and non-smoker are sigificantly different!\n"
     ]
    }
   ],
   "source": [
    "cost_smoker_join=pd.merge(df_Hospitalisation_details[['charges','Customer ID']], \n",
    "                          df_Medical_Examinations[['smoker_yes','Customer ID']], on='Customer ID', how='inner')\n",
    "cost_smoker = cost_smoker_join['charges'][cost_smoker_join['smoker_yes']==1]\n",
    "cost_non_smoker = cost_smoker_join['charges'][cost_smoker_join['smoker_yes']==0]\n",
    "\n",
    "# Perform one-way ANOVA\n",
    "f_statistic, p_value = stats.f_oneway(cost_smoker, cost_non_smoker)\n",
    "print(\"F-statistic:\", f_statistic)\n",
    "print(\"P-value:\", p_value,10)\n",
    "print('Since P-value < 0.05 (critical value), smoker and non-smoker are sigificantly different!')\n"
   ]
  },
  {
   "cell_type": "markdown",
   "id": "59204d19-f1f0-4631-a9de-9e990a9b3aee",
   "metadata": {},
   "source": [
    "## 4. Smoking and heart issues are independent."
   ]
  },
  {
   "cell_type": "code",
   "execution_count": 19,
   "id": "1296af69-bd3a-4a4f-b0f8-60d3d6df49cb",
   "metadata": {},
   "outputs": [
    {
     "name": "stdout",
     "output_type": "stream",
     "text": [
      "Contingency Table:\n",
      "Smoker         0.0  1.0\n",
      "health issue           \n",
      "0.0           1110  297\n",
      "1.0            735  191\n",
      "\n",
      "P-value: 0.8194\n",
      "Since P-value > 0.05 : health issue and being smoker are independet \n"
     ]
    }
   ],
   "source": [
    "df = pd.DataFrame({\n",
    "    'health issue': df_Medical_Examinations['Heart Issues_yes'],\n",
    "    'Smoker': df_Medical_Examinations['smoker_yes']\n",
    "})\n",
    "# Contingency table\n",
    "ct = pd.crosstab(df['health issue'], df['Smoker'])\n",
    "\n",
    "# Perform chi-square test\n",
    "chi2, p, dof, expected = chi2_contingency(ct)\n",
    "print(\"Contingency Table:\")\n",
    "print(ct)\n",
    "print(f\"\\nP-value: {p:.4f}\")\n",
    "print('Since P-value > 0.05 : health issue and being smoker are independet ')"
   ]
  }
 ],
 "metadata": {
  "kernelspec": {
   "display_name": "Python 3 (ipykernel)",
   "language": "python",
   "name": "python3"
  },
  "language_info": {
   "codemirror_mode": {
    "name": "ipython",
    "version": 3
   },
   "file_extension": ".py",
   "mimetype": "text/x-python",
   "name": "python",
   "nbconvert_exporter": "python",
   "pygments_lexer": "ipython3",
   "version": "3.12.2"
  }
 },
 "nbformat": 4,
 "nbformat_minor": 5
}
